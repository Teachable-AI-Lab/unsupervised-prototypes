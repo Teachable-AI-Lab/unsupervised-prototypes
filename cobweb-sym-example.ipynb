{
 "cells": [
  {
   "cell_type": "markdown",
   "metadata": {},
   "source": [
    "## An example for using Cobweb-Symbolic"
   ]
  },
  {
   "cell_type": "code",
   "execution_count": 1,
   "metadata": {},
   "outputs": [],
   "source": [
    "%load_ext autoreload\n",
    "%autoreload 2"
   ]
  },
  {
   "cell_type": "code",
   "execution_count": 2,
   "metadata": {},
   "outputs": [],
   "source": [
    "import torch\n",
    "from cobweb_symbolic import CobwebSymbolic\n",
    "from torchvision import transforms, datasets\n",
    "from torch.utils.data import DataLoader\n",
    "import matplotlib.pyplot as plt\n",
    "import untils"
   ]
  },
  {
   "cell_type": "code",
   "execution_count": 3,
   "metadata": {},
   "outputs": [
    {
     "name": "stdout",
     "output_type": "stream",
     "text": [
      "torch.Size([1, 1, 28, 28]) tensor([6])\n"
     ]
    },
    {
     "data": {
      "image/png": "[encoded data removed]",
      "text/plain": [
       "<Figure size 640x480 with 1 Axes>"
      ]
     },
     "metadata": {},
     "output_type": "display_data"
    }
   ],
   "source": [
    "download = True\n",
    "dataset_class = datasets.MNIST\n",
    "mnist_transform = [transforms.ToTensor()]\n",
    "# add normalization to the transform list such that all values are strictly greater than 0\n",
    "# mnist_transform.append(transforms.Lambda(lambda x: x + 1e-5))\n",
    "# normalize the data\n",
    "mnist_transform.append(transforms.Normalize((0.1307,), (0.3081,)))\n",
    "\n",
    "dataset_transform = transforms.Compose(mnist_transform)\n",
    "mnist_train = dataset_class('data/MNIST', train=True, download=download, transform=dataset_transform)\n",
    "mnist_test = dataset_class('data/MNIST', train=False, download=download, transform=dataset_transform)\n",
    "\n",
    "mnist_train_loader = DataLoader(mnist_train, batch_size=1, shuffle=True)\n",
    "mnist_test_loader = DataLoader(mnist_test, batch_size=1, shuffle=True)\n",
    "\n",
    "# test the dataloader\n",
    "for i, (data, target) in enumerate(mnist_train_loader):\n",
    "    print(data.shape, target)\n",
    "    # print(data)\n",
    "    # display the first image\n",
    "    plt.imshow(data[0, 0].numpy(), cmap='gray')\n",
    "    plt.show()\n",
    "    break\n",
    "\n",
    "# randonly shuffle the training data\n",
    "mnist_train_loader = DataLoader(mnist_train, batch_size=8, shuffle=True)"
   ]
  },
  {
   "cell_type": "code",
   "execution_count": 4,
   "metadata": {},
   "outputs": [
    {
     "name": "stderr",
     "output_type": "stream",
     "text": [
      "100%|██████████| 60000/60000 [00:01<00:00, 40009.04it/s]\n",
      "100%|██████████| 10000/10000 [00:00<00:00, 40232.55it/s]\n"
     ]
    }
   ],
   "source": [
    "hard = [4,5,7,9]\n",
    "super_easy = [3, 5]\n",
    "easy = [0,1,2,3]\n",
    "longer = [0,1,2,3,4,5,6,7]\n",
    "random_digit = [1, 4, 6, 8]\n",
    "all_labels = list(range(10))\n",
    "\n",
    "split = easy\n",
    "\n",
    "mnist_01_train = untils.filter_by_label(mnist_train, split, rename_labels=True)\n",
    "mnist_01_test = untils.filter_by_label(mnist_test, split, rename_labels=True)"
   ]
  },
  {
   "cell_type": "code",
   "execution_count": 5,
   "metadata": {},
   "outputs": [
    {
     "name": "stderr",
     "output_type": "stream",
     "text": [
      "  0%|          | 0/24754 [00:00<?, ?it/s]"
     ]
    },
    {
     "name": "stderr",
     "output_type": "stream",
     "text": [
      "100%|██████████| 24754/24754 [00:01<00:00, 14503.15it/s]\n"
     ]
    }
   ],
   "source": [
    "cobweb_symbolic = CobwebSymbolic(input_dim=28*28, depth=4)\n",
    "cobweb_symbolic.train(mnist_01_train, epochs=1)"
   ]
  },
  {
   "cell_type": "code",
   "execution_count": 6,
   "metadata": {},
   "outputs": [],
   "source": [
    "# save the model to json\n",
    "cobweb_symbolic.save_tree_to_json('cobweb_symbolic.json')"
   ]
  },
  {
   "cell_type": "code",
   "execution_count": 7,
   "metadata": {},
   "outputs": [
    {
     "name": "stdout",
     "output_type": "stream",
     "text": [
      "dict_keys(['node_id', 'mean', 'count', 'sum_sq', 'children', 'logvar'])\n",
      "<class 'torch.Tensor'>\n"
     ]
    }
   ],
   "source": [
    "# load the model from json\n",
    "### NOW THE TREE IN cobweb_symbolic WILL BE REPLACED BY THE TREE IN THE JSON FILE\n",
    "### THIS IS NOT A C++ OBJECT ANYMORE\n",
    "### THIS IS NOW A PYTHON DICT OBJECT\n",
    "\n",
    "cobweb_symbolic.load_tree_in_torch('cobweb_symbolic.json')\n",
    "print(cobweb_symbolic.tree.keys())\n",
    "print(type(cobweb_symbolic.tree['mean']))"
   ]
  },
  {
   "cell_type": "code",
   "execution_count": null,
   "metadata": {},
   "outputs": [
    {
     "name": "stderr",
     "output_type": "stream",
     "text": [
      "/Users/zwang910/Documents/Research/unsupervised-prototypes/cobweb_symbolic.py:80: UserWarning: To copy construct from a tensor, it is recommended to use sourceTensor.clone().detach() or sourceTensor.clone().detach().requires_grad_(True), rather than torch.tensor(sourceTensor).\n",
      "  curr[\"image\"] = self.tensor_to_base64(torch.tensor(curr[\"mean\"]), (28, 28), cmap=\"inferno\", normalize=True)\n"
     ]
    }
   ],
   "source": [
    "## Visualize the tree\n",
    "## MUST LOAD FROM A JSON FILE FIRST\n",
    "## Change the filename at line 55 in tree.viz.html\n",
    "cobweb_symbolic.viz_cobweb_tree('cobweb_symbolic_viz')"
   ]
  },
  {
   "cell_type": "code",
   "execution_count": null,
   "metadata": {},
   "outputs": [
    {
     "name": "stdout",
     "output_type": "stream",
     "text": [
      "dict_keys(['node_id', 'mean', 'count', 'sum_sq', 'children', 'logvar'])\n"
     ]
    }
   ],
   "source": [
    "print(cobweb_symbolic.tree.keys())"
   ]
  },
  {
   "cell_type": "code",
   "execution_count": null,
   "metadata": {},
   "outputs": [],
   "source": []
  }
 ],
 "metadata": {
  "kernelspec": {
   "display_name": "Python 3",
   "language": "python",
   "name": "python3"
  },
  "language_info": {
   "codemirror_mode": {
    "name": "ipython",
    "version": 3
   },
   "file_extension": ".py",
   "mimetype": "text/x-python",
   "name": "python",
   "nbconvert_exporter": "python",
   "pygments_lexer": "ipython3",
   "version": "3.13.1"
  }
 },
 "nbformat": 4,
 "nbformat_minor": 2
}
