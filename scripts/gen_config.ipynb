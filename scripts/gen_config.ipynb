{
 "cells": [
  {
   "cell_type": "code",
   "execution_count": 1,
   "metadata": {},
   "outputs": [],
   "source": [
    "import json"
   ]
  },
  {
   "cell_type": "code",
   "execution_count": 2,
   "metadata": {},
   "outputs": [],
   "source": [
    "lr = [2e-3, 1e-3, 5e-4, 2e-4, 1e-4]\n",
    "recon_weight = [4.0, 5.0, 8.0, 10.0]\n",
    "n_layers = [6, 8, 10, 12]\n",
    "logvar_init_range = [-6, -5, -4, -7]\n",
    "dkl_margin = [1.2, 1.8, 2.0, 2.5]"
   ]
  },
  {
   "cell_type": "code",
   "execution_count": 3,
   "metadata": {},
   "outputs": [],
   "source": [
    "count = 0\n",
    "for lr_ in lr:\n",
    "    for rec_w in recon_weight:\n",
    "        with open('./configs/fmnist.json') as f:\n",
    "            config = json.load(f)\n",
    "        # config['logvar_init_range'] = logvar_range\n",
    "        # config['dkl_margin'] = dkl\n",
    "        config['lr'] = lr_\n",
    "        config['recon_weight'] = rec_w\n",
    "        name = f\"dtn-10-rec-{rec_w}-lr-{lr_}-mnist\"\n",
    "        config['model_save_path'] = name\n",
    "        config['wandb_run_name'] = name\n",
    "        config['dataset'] = 'mnist'\n",
    "\n",
    "        # write the config to a new file\n",
    "        with open(f'./configs/config-mnist-{count}.json', 'w') as f:\n",
    "            json.dump(config, f, indent=4)\n",
    "        count += 1"
   ]
  },
  {
   "cell_type": "code",
   "execution_count": 4,
   "metadata": {},
   "outputs": [],
   "source": [
    "count = 0\n",
    "for lr_ in lr:\n",
    "    for rec_w in recon_weight:\n",
    "        with open('./configs/fmnist.json') as f:\n",
    "            config = json.load(f)\n",
    "        # config['logvar_init_range'] = logvar_range\n",
    "        # config['dkl_margin'] = dkl\n",
    "        config['lr'] = lr_\n",
    "        config['recon_weight'] = rec_w\n",
    "        name = f\"dtn-10-rec-{rec_w}-lr-{lr_}-fmnist\"\n",
    "        config['model_save_path'] = name\n",
    "        config['wandb_run_name'] = name\n",
    "        config['dataset'] = 'fashion-mnist'\n",
    "\n",
    "\n",
    "        # write the config to a new file\n",
    "        with open(f'./configs/config-fmnist-{count}.json', 'w') as f:\n",
    "            json.dump(config, f, indent=4)\n",
    "        count += 1"
   ]
  },
  {
   "cell_type": "code",
   "execution_count": null,
   "metadata": {},
   "outputs": [],
   "source": []
  },
  {
   "cell_type": "code",
   "execution_count": null,
   "metadata": {},
   "outputs": [],
   "source": []
  }
 ],
 "metadata": {
  "kernelspec": {
   "display_name": "dl",
   "language": "python",
   "name": "python3"
  },
  "language_info": {
   "codemirror_mode": {
    "name": "ipython",
    "version": 3
   },
   "file_extension": ".py",
   "mimetype": "text/x-python",
   "name": "python",
   "nbconvert_exporter": "python",
   "pygments_lexer": "ipython3",
   "version": "3.13.2"
  }
 },
 "nbformat": 4,
 "nbformat_minor": 2
}
