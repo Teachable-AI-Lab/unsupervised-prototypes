{
 "cells": [
  {
   "cell_type": "code",
   "execution_count": 1,
   "metadata": {},
   "outputs": [],
   "source": [
    "from encoders import *\n",
    "from decoders import *"
   ]
  },
  {
   "cell_type": "code",
   "execution_count": 2,
   "metadata": {},
   "outputs": [],
   "source": [
    "# enter your image shape\n",
    "IMAGE_SHAPE = (3, 32, 32)\n"
   ]
  },
  {
   "cell_type": "code",
   "execution_count": 65,
   "metadata": {},
   "outputs": [
    {
     "name": "stdout",
     "output_type": "stream",
     "text": [
      "Encoder output shape: torch.Size([10, 64, 8, 8])\n",
      "Encoder output range: 0.0, 8.037565231323242\n"
     ]
    }
   ],
   "source": [
    "encoder = ResNet18LightEncoder()\n",
    "output = encoder(torch.randn(10, *IMAGE_SHAPE))\n",
    "print(f\"Encoder output shape: {output.shape}\")\n",
    "print(f\"Encoder output range: {output.min()}, {output.max()}\")"
   ]
  },
  {
   "cell_type": "code",
   "execution_count": 62,
   "metadata": {},
   "outputs": [
    {
     "name": "stdout",
     "output_type": "stream",
     "text": [
      "x has range: -64.39373779296875 to 70.6744384765625\n"
     ]
    }
   ],
   "source": [
    "# create a tensor of shape (10, 512) range from -26 to 26\n",
    "x = torch.randn(10, 512) * 20\n",
    "print(f\"x has range: {x.min()} to {x.max()}\")"
   ]
  },
  {
   "cell_type": "code",
   "execution_count": 70,
   "metadata": {},
   "outputs": [
    {
     "name": "stdout",
     "output_type": "stream",
     "text": [
      "y has range: -1.0449903011322021 to 0.8784927129745483\n",
      "exp(0.5 * y) has range: 0.5930389761924744 to 1.5515375137329102\n"
     ]
    }
   ],
   "source": [
    "import math\n",
    "ll = nn.Linear(512, 512)\n",
    "# Calculate the initialization range\n",
    "init_range = 1e-3\n",
    "\n",
    "# Initialize weights uniformly in [-init_range, init_range]\n",
    "nn.init.uniform_(ll.weight, -init_range, init_range)\n",
    "\n",
    "# Initialize biases uniformly in [-1/sqrt(fan_in), 1/sqrt(fan_in)]\n",
    "if ll.bias is not None:\n",
    "    nn.init.uniform_(ll.bias, -1e-3, 1e-3)\n",
    "\n",
    "y = ll(x)\n",
    "\n",
    "print(f\"y has range: {y.min()} to {y.max()}\")\n",
    "print(f\"exp(0.5 * y) has range: {torch.exp(0.5 * y).min()} to {torch.exp(0.5 * y).max()}\")"
   ]
  },
  {
   "cell_type": "code",
   "execution_count": null,
   "metadata": {},
   "outputs": [],
   "source": []
  }
 ],
 "metadata": {
  "kernelspec": {
   "display_name": "dl",
   "language": "python",
   "name": "python3"
  },
  "language_info": {
   "codemirror_mode": {
    "name": "ipython",
    "version": 3
   },
   "file_extension": ".py",
   "mimetype": "text/x-python",
   "name": "python",
   "nbconvert_exporter": "python",
   "pygments_lexer": "ipython3",
   "version": "3.13.2"
  }
 },
 "nbformat": 4,
 "nbformat_minor": 2
}
